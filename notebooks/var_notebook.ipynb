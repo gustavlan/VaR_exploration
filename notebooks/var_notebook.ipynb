{
 "cells": [
  {
   "cell_type": "markdown",
   "id": "1c5f487d",
   "metadata": {},
   "source": [
    "Here we will be computing 10 day VAR for S&P500 and NASDAQ100. Output count of breaches, a plot, list of breaches, and describe which index was more volatile during pandemic outbreak and subsequent recovery period"
   ]
  },
  {
   "cell_type": "code",
   "execution_count": 1,
   "id": "12f853bc",
   "metadata": {},
   "outputs": [],
   "source": [
    "import sys\n",
    "sys.path.append(\"../src\")\n",
    "\n",
    "import pandas as pd\n",
    "import numpy as np\n",
    "import matplotlib.pyplot as plt\n",
    "import os\n",
    "from datetime import datetime\n",
    "\n",
    "from data.fetch_data import fetch_and_save_data\n",
    "from risk.var import historical_var, parametric_var, monte_carlo_var, calculate_daily_returns\n",
    "from risk.utils import sharpe_ratio, calculate_log_returns, calculate_forward_log_returns, calculate_rolling_volatility, calculate_parametric_var, load_latest_price_data, detect_var_breaches, summarize_var_breaches\n",
    "from config import TICKERS, START_DATE, END_DATE, PROCESSED_DATA_DIR, CONFIDENCE_LEVEL, MONTE_CARLO_SIMULATIONS\n",
    "\n",
    "plt.style.use('ggplot')"
   ]
  },
  {
   "cell_type": "code",
   "execution_count": 2,
   "id": "965e4222",
   "metadata": {
    "scrolled": true
   },
   "outputs": [
    {
     "name": "stdout",
     "output_type": "stream",
     "text": [
      "Loaded data from: /home/gusta/projects/VaR_exploration/data/processed/2025-03-30_nasdaq.csv\n",
      "Loaded data from: /home/gusta/projects/VaR_exploration/data/processed/2025-03-30_sp500.csv\n"
     ]
    },
    {
     "name": "stderr",
     "output_type": "stream",
     "text": [
      "/home/gusta/projects/VaR_exploration/notebooks/../src/risk/utils.py:89: UserWarning: Could not infer format, so each element will be parsed individually, falling back to `dateutil`. To ensure parsing is consistent and as-expected, please specify a format.\n",
      "  df = pd.read_csv(latest_filepath, index_col=0, parse_dates=True)\n",
      "/home/gusta/projects/VaR_exploration/notebooks/../src/risk/utils.py:89: UserWarning: Could not infer format, so each element will be parsed individually, falling back to `dateutil`. To ensure parsing is consistent and as-expected, please specify a format.\n",
      "  df = pd.read_csv(latest_filepath, index_col=0, parse_dates=True)\n"
     ]
    }
   ],
   "source": [
    "# Load NASDAQ and S&P500 data \n",
    "nasdaq = load_latest_price_data(PROCESSED_DATA_DIR, 'nasdaq')\n",
    "sp500 = load_latest_price_data(PROCESSED_DATA_DIR, 'sp500')"
   ]
  },
  {
   "cell_type": "code",
   "execution_count": 3,
   "id": "1fc0a494",
   "metadata": {},
   "outputs": [],
   "source": [
    "nasdaq_col = 'nasdaq_close'\n",
    "sp500_col = 'sp500_close'\n",
    "\n",
    "# Calculate daily log returns\n",
    "nasdaq['ret_log'] = calculate_log_returns(nasdaq[nasdaq_col])\n",
    "sp500['ret_log'] = calculate_log_returns(sp500[sp500_col])\n",
    "\n",
    "# Calculate 10 day forward log returns\n",
    "nasdaq['ret_10d'] = calculate_forward_log_returns(nasdaq[nasdaq_col], days_forward=10)\n",
    "sp500['ret_10d'] = calculate_forward_log_returns(sp500[sp500_col], days_forward=10)\n",
    "\n",
    "# Calculate rolling volatility using a 21-day window\n",
    "nasdaq['std_21'] = calculate_rolling_volatility(nasdaq['ret_log'], window=21)\n",
    "sp500['std_21'] = calculate_rolling_volatility(sp500['ret_log'], window=21)\n",
    "\n",
    "# Calculate parametric VaR at 95% confidence level on a 10 day horizon\n",
    "nasdaq['var_10d'] = calculate_parametric_var(nasdaq['std_21'], confidence_z=-2.33, horizon_days=10)\n",
    "sp500['var_10d'] = calculate_parametric_var(sp500['std_21'], confidence_z=-2.33, horizon_days=10)"
   ]
  },
  {
   "cell_type": "code",
   "execution_count": 5,
   "id": "79a11c8b",
   "metadata": {},
   "outputs": [
    {
     "name": "stdout",
     "output_type": "stream",
     "text": [
      "NASDAQ100 breaches count: 58, Percentage breaches: 0.028\n",
      "S&P500 breaches count: 74, Percentage breaches: 0.036\n"
     ]
    }
   ],
   "source": [
    "# Detect breaches\n",
    "nasdaq = detect_var_breaches(nasdaq, return_col='ret_10d', var_col='var_10d')\n",
    "sp500 = detect_var_breaches(sp500, return_col='ret_10d', var_col='var_10d')\n",
    "\n",
    "# Summarize breaches\n",
    "nasdaq_summary = summarize_var_breaches(nasdaq)\n",
    "sp500_summary = summarize_var_breaches(sp500)\n",
    "\n",
    "print(f\"NASDAQ100 breaches count: {nasdaq_summary['count']}, Percentage breaches: {nasdaq_summary['percentage']}\")\n",
    "print(f\"S&P500 breaches count: {sp500_summary['count']}, Percentage breaches: {sp500_summary['percentage']}\")\n"
   ]
  },
  {
   "cell_type": "code",
   "execution_count": null,
   "id": "38c83a46",
   "metadata": {},
   "outputs": [],
   "source": [
    "# Create a function so we can create multiple graphs\n",
    "def plot_var_breaches(data, title, breach, ax):\n",
    "    # Plotting the 10-day returns\n",
    "    ax.plot(data.index, data['ret_10d'], \n",
    "            label='10 day returns', \n",
    "            color='blue')\n",
    "    \n",
    "    # Creating a marker for breaches\n",
    "    breaches = data[data[breach]]\n",
    "    ax.scatter(breaches.index, breaches['ret_10d'],\n",
    "               color='red', \n",
    "               marker='x', \n",
    "               label='VaR Breaches')\n",
    "    \n",
    "    # Plot the 10-day VAR\n",
    "    ax.plot(data.index, data['var_10d'], \n",
    "            label='10 day VaR', \n",
    "            color='green')\n",
    "    \n",
    "    # Titles and labels\n",
    "    ax.set_title(title)\n",
    "    ax.set_xlabel('Date')\n",
    "    ax.set_ylabel('Returns')\n",
    "    ax.legend()\n",
    "\n",
    "# Create two subplots so we can compare the S&P500 to the NASDAQ100 VAR breaches\n",
    "fig, (ax1, ax2) = plt.subplots(nrows=2, ncols=1, figsize=(20, 10))\n",
    "\n",
    "# Plotting the two indeces\n",
    "plot_var_breaches(nq100, 'NASDAQ100 VaR Breaches', 'breach', ax1)\n",
    "plot_var_breaches(sp500, 'S&P500 VaR Breaches','breach', ax2)\n",
    "\n",
    "# Display\n",
    "plt.show()"
   ]
  },
  {
   "cell_type": "code",
   "execution_count": null,
   "id": "8e80951d",
   "metadata": {},
   "outputs": [],
   "source": [
    "# NASDAQ100 list of VAR breaches\n",
    "nq100_breach_table = nq100[['Closing Price', 'ret_log', 'var_10d', 'ret_10d', 'breach']]\n",
    "print('NASDAQ100', nq100_breach_table[nq100_breach_table['breach']==True].head())\n",
    "\n",
    "#S&P500 list of VAR breaches\n",
    "sp500_breach_table = sp500[['Closing Price', 'ret_log', 'var_10d', 'ret_10d', 'breach']]\n",
    "print('S&P500', sp500_breach_table[sp500_breach_table['breach']==True].head())"
   ]
  },
  {
   "cell_type": "code",
   "execution_count": null,
   "id": "216d4013",
   "metadata": {},
   "outputs": [],
   "source": [
    "# Filter for only breaches\n",
    "nq100_breach_table = nq100_breach_table[nq100_breach_table['breach']==True]\n",
    "sp500_breach_table = sp500_breach_table[sp500_breach_table['breach']==True]\n",
    "\n",
    "# Filter for covid period\n",
    "nq100_covid_breaches = nq100_breach_table.loc['2020-02-01':'2020-03-31']\n",
    "sp500_covid_breaches = sp500_breach_table.loc['2020-02-01':'2020-03-31']\n",
    "\n",
    "# Filter for recovery Period\n",
    "nq100_recovery_breaches = nq100_breach_table.loc['2021-01-01':'2022-12-31']\n",
    "sp500_recovery_breaches = sp500_breach_table.loc['2021-01-01':'2022-12-31']\n",
    "\n",
    "# Print number of breaches during each period\n",
    "print('NASDAQ100 covid breaches:', len(nq100_covid_breaches),\n",
    "      'Recovery breaches:', len(nq100_recovery_breaches))\n",
    "\n",
    "# Print number of breaches during each period\n",
    "print('S&P500 covid breaches:', len(sp500_covid_breaches), \n",
    "      'Recovery breaches:', len(sp500_recovery_breaches))"
   ]
  },
  {
   "cell_type": "code",
   "execution_count": null,
   "id": "51baa8bb",
   "metadata": {},
   "outputs": [],
   "source": [
    "# Quick graph to inspect the covid period breaches\n",
    "fig, (ax1, ax2) = plt.subplots(nrows=2, ncols=1, figsize=(20, 10))\n",
    "\n",
    "# Plotting the two indeces\n",
    "plot_var_breaches(nq100_covid_breaches, 'NASDAQ100 COVID VaR Breaches', 'breach', ax1)\n",
    "plot_var_breaches(sp500_covid_breaches, 'S&P500 VaR COVID Breaches','breach', ax2)\n",
    "\n",
    "# Display\n",
    "plt.show()"
   ]
  },
  {
   "cell_type": "markdown",
   "id": "ada4fa4b",
   "metadata": {},
   "source": [
    "The S&P500 index appears more risky than the NASDAQ100 both during the covid period of february/march 2020 and the recovery period of 2021-2022. The S&P500 saw 50% more breaches in the 2 month span of the COVID outbreak, the S&P500 saw VaR breaches earlier in february than the NASDAQ, and also had twice as many breaches in early march.\n",
    "\n",
    "Compared to the covid outbreak period of 2 months the recovery period defined as the 2 year period of 2021-2022 was much calmer, with both indices having much fewer breaches in this 2 year period than they did during 2 months of covid. But still here the NASDAQ appears less risky only having 4 breaches, 2 per year compared to the S&P500 10 breaches or 5 per year.\n",
    "\n",
    "There is not enough information to draw a conclusion or inference based on this data. But an initial hypothesis is that the NASDAQ index as a tech heavy index might not be as negativly affected by covid given the peoples move to more digital lifes during lockdowns, in general technology stocks might not have been as hurt by the pandemic as other sectors since during lockdown people consumed technology more and more. It would from that perspective make sense for a tech heavy index such as NASDAQ to be less risky in such an event than a more general economy exposed index such as S&P500."
   ]
  },
  {
   "cell_type": "markdown",
   "id": "7af2bfe3",
   "metadata": {},
   "source": [
    "#### Now let's do the same analysis but use EWMA instead of 10 day VAR and also discuss the impact of lambda on the smoothness of EWMA"
   ]
  },
  {
   "cell_type": "code",
   "execution_count": null,
   "id": "632aa51c",
   "metadata": {},
   "outputs": [],
   "source": [
    "# Initialize the variance\n",
    "nq100['EWMA'] = nq100['ret_log'].var()\n",
    "sp500['EWMA'] = sp500['ret_log'].var()\n",
    "\n",
    "# Calculate EWMA = lamda*previous day EWMA + (1-lambda) * (previous day return)^2\n",
    "for i in range(1, len(nq100)):\n",
    "        nq100.loc[nq100.index[i], 'EWMA'] = (0.72 * nq100['EWMA'].iloc[i-1] +\n",
    "                                            (1 - 0.72) * nq100['ret_log'].iloc[i] ** 2)\n",
    "for i in range(1, len(sp500)):\n",
    "        sp500.loc[sp500.index[i], 'EWMA'] = (0.72 * sp500['EWMA'].iloc[i-1] + \n",
    "                                             (1 - 0.72) * sp500['ret_log'].iloc[i] ** 2)"
   ]
  },
  {
   "cell_type": "code",
   "execution_count": null,
   "id": "b2c5e7a1",
   "metadata": {},
   "outputs": [],
   "source": [
    "# Calculate 99% var, the left tail cutoff is approx z = -2.33\n",
    "nq100['ewma_10d'] = -2.33 * (10 * nq100['EWMA']) ** 0.5\n",
    "sp500['ewma_10d'] = -2.33 * (10 * sp500['EWMA']) ** 0.5\n",
    "\n",
    "# Check for breaches\n",
    "nq100['breach_ewma'] = (nq100['ret_10d'] < nq100['ewma_10d']) & (nq100['ret_10d'] < 0)\n",
    "sp500['breach_ewma'] = (sp500['ret_10d'] < sp500['ewma_10d']) & (sp500['ret_10d'] < 0)"
   ]
  },
  {
   "cell_type": "code",
   "execution_count": null,
   "id": "e0d0180a",
   "metadata": {},
   "outputs": [],
   "source": [
    "# Count and percentage VAR breaches per index\n",
    "print('NASDAQ100 EWMA breaches count:', \n",
    "      nq100['breach_ewma'][nq100['breach_ewma'] == True].count(),\n",
    "      'Percentage breaches:', \n",
    "      round(nq100['breach_ewma'].mean(),3))\n",
    "print('S&P500 EWMA breaches count:', \n",
    "      sp500['breach_ewma'][sp500['breach_ewma'] == True].count(),\n",
    "      'Percentage breaches:', \n",
    "      round(sp500['breach_ewma'].mean(),3))"
   ]
  },
  {
   "cell_type": "code",
   "execution_count": null,
   "id": "05b00b5f",
   "metadata": {},
   "outputs": [],
   "source": [
    "# Create two subplots so we can compare the S&P500 to the NASDAQ100 VAR breaches\n",
    "fig, (ax1, ax2) = plt.subplots(nrows=2, ncols=1, figsize=(20, 10))\n",
    "\n",
    "# Use our previously defined plotting function  adjusting it to use EWMA breach column\n",
    "plot_var_breaches(nq100, 'NASDAQ100 EWMA VaR Breaches', 'breach_ewma', ax1)\n",
    "plot_var_breaches(sp500, 'S&P 500 EWMA VaR Breaches','breach_ewma', ax2)\n",
    "\n",
    "# Display the plot\n",
    "plt.show()"
   ]
  },
  {
   "cell_type": "code",
   "execution_count": null,
   "id": "60cdb3bc",
   "metadata": {},
   "outputs": [],
   "source": [
    "# NASDAQ100 list of VAR breaches\n",
    "nq100_breach_table = nq100[['Closing Price', 'ret_log', 'ewma_10d', 'ret_10d', 'breach_ewma']]\n",
    "print('NASDAQ100', nq100_breach_table[nq100_breach_table['breach_ewma']==True].head())\n",
    "\n",
    "\n",
    "#S&P500 list of VAR breaches\n",
    "sp500_breach_table = sp500[['Closing Price', 'ret_log', 'ewma_10d', 'ret_10d', 'breach_ewma']]\n",
    "print('S&P500', sp500_breach_table[sp500_breach_table['breach_ewma']==True].head())"
   ]
  },
  {
   "cell_type": "code",
   "execution_count": null,
   "id": "a357bc92",
   "metadata": {},
   "outputs": [],
   "source": [
    "# Filter for only breaches\n",
    "nq100_breach_table = nq100_breach_table[nq100_breach_table['breach_ewma']==True]\n",
    "sp500_breach_table = sp500_breach_table[sp500_breach_table['breach_ewma']==True]\n",
    "\n",
    "# Filter for covid period\n",
    "nq100_covid_breaches = nq100_breach_table.loc['2020-02-01':'2020-03-31']\n",
    "sp500_covid_breaches = sp500_breach_table.loc['2020-02-01':'2020-03-31']\n",
    "\n",
    "# Filter for recovery Period\n",
    "nq100_recovery_breaches = nq100_breach_table.loc['2021-01-01':'2022-12-31']\n",
    "sp500_recovery_breaches = sp500_breach_table.loc['2021-01-01':'2022-12-31']\n",
    "\n",
    "# Print number of breaches during each period\n",
    "print('NASDAQ100 covid EWMA breaches:', \n",
    "      len(nq100_covid_breaches), \n",
    "      'Recovery EWMA breaches:', \n",
    "      len(nq100_recovery_breaches))\n",
    "print('S&P500 covid EWMA breaches:', \n",
    "      len(sp500_covid_breaches), \n",
    "      'Recovery EWMA breaches:', \n",
    "      len(sp500_recovery_breaches))"
   ]
  },
  {
   "cell_type": "markdown",
   "id": "3b6a3523",
   "metadata": {},
   "source": [
    " λ impacts the smoothness of predicted EWMA volatility: The higher the λ the more weight is being given to the most recent variance, and less to the most recent return. Volatility tends to cluster together while returns follow a random walk, therefore giving more weight (higher λ) to the most recent variance results in a smoother predicted volatility."
   ]
  },
  {
   "cell_type": "markdown",
   "id": "56addc6b",
   "metadata": {},
   "source": []
  }
 ],
 "metadata": {
  "kernelspec": {
   "display_name": "venv_VaR",
   "language": "python",
   "name": "venv_var"
  },
  "language_info": {
   "codemirror_mode": {
    "name": "ipython",
    "version": 3
   },
   "file_extension": ".py",
   "mimetype": "text/x-python",
   "name": "python",
   "nbconvert_exporter": "python",
   "pygments_lexer": "ipython3",
   "version": "3.12.3"
  }
 },
 "nbformat": 4,
 "nbformat_minor": 5
}
